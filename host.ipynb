{
 "cells": [
  {
   "cell_type": "code",
   "execution_count": null,
   "id": "c5af2f12",
   "metadata": {},
   "outputs": [],
   "source": [
    "import cv2 \n",
    "import socket\n",
    "import pickle \n",
    "import struct\n",
    "import imutils\n",
    "server_socket = socket.socket(socket.AF_INET,socket.SOCK_STREAM)\n",
    "host_name = socket.gethostname()\n",
    "host_ip = socket.gethostbyname(host_name)\n",
    "print(\"HOST IP:\",host_ip)\n",
    "port = 9999\n",
    "socket_address =(host_ip,port)\n",
    "server_socket.bind(socket_address)\n",
    "server_socket.listen(1)\n",
    "print(\"LISTENING AT:\",socket_address)\n",
    "while True:\n",
    "    client_socket,addr = server_socket.accept()\n",
    "    print('GOT CONNECTION FROM:',addr)\n",
    "    if client_socket:\n",
    "        vid = cv2.VideoCapture(0)\n",
    "        while(vid.isOpened()):\n",
    "            img,frame = vid.read()\n",
    "            frame = cv2.flip(frame,1)\n",
    "            frame = imutils.resize(frame,width=320)\n",
    "            a = pickle.dumps(frame)\n",
    "            message = struct.pack(\"Q\",len(a))+a\n",
    "            client_socket.sendall(message)\n",
    "            cv2.imshow('TRANSMITTING VIDEO',frame)\n",
    "            key = cv2.waitKey(1) & 0xFF\n",
    "            if key ==ord('q'):\n",
    "                client_socket.close()"
   ]
  }
 ],
 "metadata": {
  "kernelspec": {
   "display_name": "Python 3",
   "language": "python",
   "name": "python3"
  },
  "language_info": {
   "codemirror_mode": {
    "name": "ipython",
    "version": 3
   },
   "file_extension": ".py",
   "mimetype": "text/x-python",
   "name": "python",
   "nbconvert_exporter": "python",
   "pygments_lexer": "ipython3",
   "version": "3.8.8"
  }
 },
 "nbformat": 4,
 "nbformat_minor": 5
}
